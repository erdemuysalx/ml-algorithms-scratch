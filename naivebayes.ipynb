{
  "cells": [
    {
      "cell_type": "markdown",
      "metadata": {
        "id": "view-in-github",
        "colab_type": "text"
      },
      "source": [
        "<a href=\"https://colab.research.google.com/github/erdemuysalx/ml-algorithms-scratch/blob/main/naivebayes.ipynb\" target=\"_parent\"><img src=\"https://colab.research.google.com/assets/colab-badge.svg\" alt=\"Open In Colab\"/></a>"
      ]
    },
    {
      "cell_type": "markdown",
      "metadata": {
        "id": "A02hCZPQtJ2M"
      },
      "source": [
        "# Assignment 2: Naive Bayes, Text Classification and Log-Sum-Exp-Trick\n",
        "\n",
        "Only use the already imported library `numpy`. Make sure that the `liar.txt` dataset is in the same directory as the notebook.\n",
        "\n",
        "List your team members (name and immatriculation number) in the following cell:"
      ]
    },
    {
      "cell_type": "markdown",
      "metadata": {
        "id": "C63mCY4JtJ2V"
      },
      "source": [
        "\n",
        "* *names*  ->    Ali Raza, Seemab Hassan, Ramazan Erdem Uysal\n",
        "* *matr. nr.* ->  3435766, 3568109, 3576094\n",
        "* *study program* -> Computational Linguistics, Computational Linguistics, INFOTECH\n",
        "* *B.Sc./M.Sc.* ->  M.Sc., M.Sc., M. Sc.\n",
        "\n",
        "*of all assignment group participants here.* (double klick here to edit)*"
      ]
    },
    {
      "cell_type": "code",
      "source": [
        "import numpy as np\n",
        "from google.colab import drive\n",
        "drive.mount('/content/drive',force_remount=True)\n",
        "%cd \"/content/drive/My Drive/\""
      ],
      "metadata": {
        "id": "qdlElTmB8oR1",
        "colab": {
          "base_uri": "https://localhost:8080/",
          "height": 0
        },
        "outputId": "0b7d6e44-75fa-4ecb-b6ee-3470448bc9ea"
      },
      "execution_count": 1,
      "outputs": [
        {
          "output_type": "stream",
          "name": "stdout",
          "text": [
            "Mounted at /content/drive\n",
            "/content/drive/My Drive\n"
          ]
        }
      ]
    },
    {
      "cell_type": "code",
      "execution_count": 2,
      "metadata": {
        "colab": {
          "base_uri": "https://localhost:8080/",
          "height": 0
        },
        "id": "1MNAesVStJ2X",
        "outputId": "011b437f-d272-4ca2-afe3-815dc274447f"
      },
      "outputs": [
        {
          "output_type": "stream",
          "name": "stdout",
          "text": [
            "Sample:\n",
            "real: ['thanks', 'to', 'our', 'reforms', 'the', 'average', 'family', 'will', 'have', 'an', 'extra', '322', 'to', 'spend']\n",
            "real: ['ive', 'got', 'the', 'spending', 'down', 'ive', 'got', 'the', 'debt', 'down', 'a', 'little', 'bit', 'ive', 'got', 'the', 'reserves', 'up']\n",
            "real: ['winning', 'enough', 'pledged', 'delegates', 'is', 'not', 'impossible']\n"
          ]
        }
      ],
      "source": [
        "# Load required packages and dataset. Do not modify.\n",
        "import numpy as np\n",
        "\n",
        "\n",
        "\n",
        "def load_liar_dataset():\n",
        "    import string\n",
        "    \n",
        "    with open('Machine_Learning/liar.txt', mode='r', encoding='utf-8') as f:\n",
        "        rows = [l.strip().split('\\t')[:2] for l in f]\n",
        "    \n",
        "    y, X = zip(*rows)\n",
        "    X =[x.translate(str.maketrans('', '', string.punctuation)).lower().split() for x in X]\n",
        "    \n",
        "    return X, y\n",
        "    \n",
        "\n",
        "X, y = load_liar_dataset()\n",
        "\n",
        "print('Sample:')\n",
        "print(f'{y[0]}: {X[0]}')\n",
        "print(f'{y[1]}: {X[1]}')\n",
        "print(f'{y[2]}: {X[2]}')"
      ]
    },
    {
      "cell_type": "markdown",
      "metadata": {
        "tags": [],
        "id": "yzNdTkdTtJ2a"
      },
      "source": [
        "### Task 2: Fake News Classification with Naive Bayes\n",
        "\n",
        "Implement a Naive Bayes classifier with Laplace smoothing to detect whether a text message is fake or real (not fake).\n",
        "\n",
        "A text message is represented by a list of string tokens as shown above.\n",
        "The classification target is binary and the two possible labels are the strings `'fake'` and `'real'`.\n",
        "\n",
        "Fill out the methods in `NaiveBayesFakeNewsClassifier` to train (`fit`) and predict (`predict`). Feel free to introduce new fields and methods based on your needs, but the methods `fit` and `predict` are required and their interface should not be changed.\n",
        "\n",
        "Hint: Try to map the text messages to word frequency vectors by counting how often each word occurs in a message."
      ]
    },
    {
      "cell_type": "code",
      "execution_count": 19,
      "metadata": {
        "id": "OqXOxWNntJ2c"
      },
      "outputs": [],
      "source": [
        "from collections import Counter, defaultdict\n",
        "from math import log\n",
        "from pprint import pprint\n",
        "\n",
        "# Implement your solution here.\n",
        "class NaiveBayesFakeNewsClassifier(object):\n",
        "    def __init__(self):\n",
        "        self.total_docs = None\n",
        "        self.classes = None\n",
        "        self.docs_per_class = None\n",
        "        self.vocabulary = None\n",
        "        self.vocabulary_size = None\n",
        "        self.collection_frequency = None\n",
        "        self.conditional_prob_real = None\n",
        "        self.conditional_prob_fake = None\n",
        "    \n",
        "    def fit(self, X, y):\n",
        "        \"\"\"\n",
        "        X is a list of `n` text messages. Each text message is a list of strings with at least length one.\n",
        "        y is a list of `n` labels either the string 'Fake' or the string 'real'.\n",
        "        \"\"\"\n",
        "\n",
        "        # creating vocabulary from list \n",
        "        flatList = [item for elem in X for item in elem]\n",
        "        self.vocabulary = set(flatList)\n",
        "        self.vocabulary_size = len(self.vocabulary) \n",
        "       \n",
        "        # get prior probabilities of each class, and docs per class \n",
        "        self.classes, self.docs_per_class = calculate_prior(y)\n",
        "        \n",
        "        self.total_docs = len(X) \n",
        "\n",
        "        # get the term frequencies \n",
        "        term_doc_pointers, vector_lst = term_frequencies(X, self.vocabulary, self.vocabulary_size)\n",
        "        frequency_vectors = np.array(vector_lst)\n",
        "        # print(\"Vector dimenssion : \", frequency_vectors.shape)\n",
        "        # print(\"Term frequencies in each document \\n\", frequency_vectors) \n",
        "        # print(\"Term to document indexes : \", term_doc_pointers)\n",
        "\n",
        "        # get the term frequencies for each class  \n",
        "        term_freq_real, term_freq_fake = term_frequencies_category(X, y, term_doc_pointers , self.vocabulary, self.vocabulary_size)\n",
        "\n",
        "        # get the term probabilities\n",
        "        self.conditional_prob_fake, self.conditional_prob_real = term_probabilities(self.vocabulary, term_freq_fake, term_freq_real)\n",
        "\n",
        "    def predict(self, X):\n",
        "        \"\"\"\n",
        "        X is a list of `n` text messages. Each text message is a list of strings with at least length one.\n",
        "        The method returns a list of `n` strings, i.e. classification labels ('fake' or 'real').\n",
        "        \"\"\"\n",
        "        y_test = []\n",
        "\n",
        "        # creating vocabulary from list \n",
        "        flatList = [item for elem in X for item in elem]\n",
        "        test_vocab = set(flatList)\n",
        "\n",
        "        for doc in X:\n",
        "          # log of prior probabilities\n",
        "          real_out = log(self.classes['real'])\n",
        "          fake_out = log(self.classes['fake'])\n",
        "\n",
        "          for term in test_vocab: \n",
        "            # gets the probabilities for new documents from conditional probabilities for real  \n",
        "            if term in self.conditional_prob_real.keys() and term in doc:\n",
        "              n = doc.count(term)\n",
        "              real_out += log(self.conditional_prob_real[term]**n)\n",
        "            # gets the probabilities for new documents from conditional probabilities for fake  \n",
        "            if term in self.conditional_prob_fake.keys() and term in doc:\n",
        "              n = doc.count(term)\n",
        "              fake_out += log(self.conditional_prob_fake[term]**n)\n",
        "\n",
        "          # appends the value which is greater to the final list of outputs (posterier)\n",
        "          if fake_out > real_out:\n",
        "            y_test.append('fake')\n",
        "          else:\n",
        "            y_test.append('real')\n",
        "\n",
        "        return y_test \n",
        "\n",
        "\n",
        "def calculate_prior(y):\n",
        "  \"\"\"\n",
        "  This method will compute the pirior class probabilities of both classes.\n",
        "  y is a list of `n` labels either the string 'fake' or the string 'real'.\n",
        "  \"\"\"\n",
        "\n",
        "  class1_counter = 0\n",
        "  class2_counter = 0\n",
        "  class_prior_probs = dict()\n",
        "\n",
        "  for observations in y:\n",
        "    if observations == 'real':\n",
        "      class1_counter += 1\n",
        "    else:\n",
        "      class2_counter += 1\n",
        "  \n",
        "  class_prior_probs[\"real\"] = class1_counter/len(y)\n",
        "  class_prior_probs[\"fake\"] = class2_counter/len(y)\n",
        "\n",
        "  print(\"Prior Probabilities of classes: \", class_prior_probs)\n",
        "  \n",
        "  return class_prior_probs, [class1_counter, class2_counter]\n",
        "\n",
        "def term_frequencies(X, vocabulary, vocabulary_size):\n",
        "  \"\"\"\n",
        "  This method will compute the term frequencies in each doc.\n",
        "  returns a dict of doc_to_index pointers and a vector of term frequencies vectors \n",
        "  \"\"\"\n",
        "  term_doc_matrix = dict()\n",
        "  vocabulary = sorted(vocabulary)\n",
        "\n",
        "  # list for term-frequency vectors \n",
        "  vector_lst = [[]] * vocabulary_size\n",
        "  print(\"Vocabulary size : \", vocabulary_size)\n",
        "\n",
        "  for term_id, term in enumerate(vocabulary):\n",
        "    doc_ids = []\n",
        "\n",
        "    for id, doc in enumerate(X):\n",
        "      \n",
        "      # checks wheather term is present in the document then appends its count and creates posting list \n",
        "      if term in doc:\n",
        "        vector_lst[term_id].append(doc.count(term))\n",
        "        doc_ids.append(id)\n",
        "\n",
        "    term_doc_matrix.update( {term : doc_ids} )\n",
        "    \n",
        "  return term_doc_matrix, vector_lst  \n",
        "\n",
        "def term_frequencies_category(X, y, term_doc_pointers, vocabulary, vocabulary_size):\n",
        "  \"\"\"\n",
        "  This method will compute the term frequencies in each class category.\n",
        "  returns a dict of term_to_category pointers and vectors of term frequencies \n",
        "  \"\"\"\n",
        "  term_freq_real = dict()\n",
        "  term_freq_fake = dict()\n",
        "  \n",
        "  vocabulary = sorted(vocabulary)\n",
        " \n",
        " # looking throught the posting lists  \n",
        "  for term, term_ind in term_doc_pointers.items():\n",
        "\n",
        "    sum_freq_real = sum_freq_fake = 0 \n",
        "    \n",
        "    for id in term_ind: \n",
        "      \n",
        "      # if term belongs to 'real' category then counts its occurence for this category \n",
        "      if y[id] == 'real':  \n",
        "        sum_freq_real += X[id].count(term)      \n",
        "\n",
        "      # if term belongs to 'fake' category then counts its occurence for this category\n",
        "      if y[id] == 'fake':\n",
        "        sum_freq_fake += X[id].count(term)\n",
        "\n",
        "    # updates the occurences in the final dictionary for both kind of terms which occured in any of the categories and which weren't  \n",
        "    if sum_freq_real > 0:\n",
        "      term_freq_real.update({term : sum_freq_real})\n",
        "    else: \n",
        "      term_freq_real.update({term : 0})\n",
        "\n",
        "    if sum_freq_fake > 0: \n",
        "      term_freq_fake.update({term : sum_freq_fake})\n",
        "    else: \n",
        "      term_freq_fake.update({term : 0})\n",
        "\n",
        "  # print(\"Real : \", sum(term_freq_real.values()), term_freq_real)\n",
        "  # print(\"Fake : \",sum(term_freq_fake.values()), term_freq_fake) \n",
        "\n",
        "  return  term_freq_real, term_freq_fake\n",
        "\n",
        "def term_probabilities(vocabulary, term_freq_fake, term_freq_real):\n",
        "  \"\"\"\n",
        "  Calculates term probabilities for each category/class\n",
        "  Formula: (Term Frequency + 1)/ (Sum of term frequencies in a category + total no. of terms in a single category)\n",
        "\n",
        "  returns two dictionaries containinhg term probabilities for real and fake categories respectively \n",
        "  \"\"\"\n",
        "\n",
        "  term_prob_real = dict()\n",
        "  term_prob_fake = dict()    \n",
        "\n",
        "  # computing final likelihoods \n",
        "  for fake in term_freq_fake:\n",
        "    term_prob_fake.update({fake: (term_freq_fake[fake] + 1) / (sum(term_freq_fake.values()) + len(term_freq_fake) )})\n",
        "  \n",
        "  for real in term_freq_real:\n",
        "    term_prob_real.update({real: (term_freq_real[real] + 1) / (sum(term_freq_real.values()) + len(term_freq_real) )})\n",
        "\n",
        "  # print(term_prob_real)\n",
        "  # print(term_prob_fake)\n",
        "  \n",
        "  \n",
        "  return term_prob_fake, term_prob_real \n",
        "  "
      ]
    },
    {
      "cell_type": "code",
      "source": [
        "from sklearn.metrics import confusion_matrix\n",
        "from sklearn.model_selection import train_test_split\n",
        "\n",
        "# Apply train-test split.\n",
        "X_train, X_test, y_train, y_test = train_test_split(X, y, test_size=0.3, random_state=2020)\n",
        "\n",
        "obj = NaiveBayesFakeNewsClassifier()\n",
        "obj.fit(X_train[:100], y_train[:100])\n",
        "output = obj.predict(X_test[:50])"
      ],
      "metadata": {
        "id": "q_hwcVcq-JFC",
        "colab": {
          "base_uri": "https://localhost:8080/",
          "height": 0
        },
        "outputId": "1d759d96-876b-4bbd-d9bb-12698f53ea50"
      },
      "execution_count": 4,
      "outputs": [
        {
          "output_type": "stream",
          "name": "stdout",
          "text": [
            "Prior Probabilities of classes:  {'real': 0.45, 'fake': 0.55}\n",
            "Vocabulary size :  879\n"
          ]
        }
      ]
    },
    {
      "cell_type": "code",
      "execution_count": 5,
      "metadata": {
        "id": "uIQ93wERtJ2f",
        "colab": {
          "base_uri": "https://localhost:8080/",
          "height": 596
        },
        "outputId": "cbf9fa59-854e-401a-901f-dca8d8286067"
      },
      "outputs": [
        {
          "output_type": "stream",
          "name": "stdout",
          "text": [
            "Prior Probabilities of classes:  {'real': 0.4980392156862745, 'fake': 0.5019607843137255}\n",
            "Vocabulary size :  9595\n"
          ]
        },
        {
          "output_type": "display_data",
          "data": {
            "text/plain": [
              "<Figure size 432x288 with 1 Axes>"
            ],
            "image/png": "[encoded data removed]"
          },
          "metadata": {
            "needs_background": "light"
          }
        },
        {
          "output_type": "display_data",
          "data": {
            "text/plain": [
              "<Figure size 432x288 with 1 Axes>"
            ],
            "image/png": "[encoded data removed]"
          },
          "metadata": {
            "needs_background": "light"
          }
        }
      ],
      "source": [
        "# The following code will evaluate your classifier.\n",
        "class RealClassifier(object):\n",
        "    \"\"\"\n",
        "    This classifier is a primitive baseline, which just predicts the most common class each time.\n",
        "    Naive Bayes should definitely beat this.\n",
        "    \"\"\"\n",
        "    def fit(self, X, y): pass\n",
        "    def predict(self, X): return len(X)*['real']\n",
        "\n",
        "    \n",
        "def train_evaluate(classifier, X, y):\n",
        "    from sklearn.metrics import confusion_matrix\n",
        "    from sklearn.model_selection import train_test_split\n",
        "    \n",
        "    # Apply train-test split.\n",
        "    X_train, X_test, y_train, y_test = train_test_split(X, y, test_size=0.3, random_state=2020)\n",
        "    # Inititialize and train classifier.\n",
        "    classifier.fit(X_train, y_train)\n",
        "    # Evaluate classifier on test data.\n",
        "    yhat_test = classifier.predict(X_test)\n",
        "    cmatrix = confusion_matrix(y_test, yhat_test, labels=['real', 'fake'])\n",
        "        \n",
        "    return cmatrix\n",
        "\n",
        "\n",
        "def plot_confusion_matrix(cmatrix, classifier_name):\n",
        "    import matplotlib.pyplot as plt\n",
        "    \n",
        "    fig, ax = plt.subplots(1, 1)\n",
        "    ax.matshow(cmatrix, cmap='Greens')\n",
        "    for x in (0, 1):\n",
        "        for y in (0, 1):\n",
        "            ax.text(x, y, cmatrix[y, x])\n",
        "    ax.set_xlabel('predicted label')\n",
        "    ax.set_ylabel('true label')\n",
        "    ax.set_xticklabels(['', 'real', 'fake'])\n",
        "    ax.set_yticklabels(['', 'real', 'fake'])\n",
        "    ax.set_title(classifier_name)\n",
        "\n",
        "    \n",
        "real_classifier = RealClassifier()\n",
        "your_classifier = NaiveBayesFakeNewsClassifier()\n",
        "real_cmatrix = train_evaluate(real_classifier, X, y)\n",
        "your_cmatrix = train_evaluate(your_classifier, X, y)\n",
        "\n",
        "plot_confusion_matrix(real_cmatrix, 'RealClassifier')\n",
        "plot_confusion_matrix(your_cmatrix, 'NaiveBayesFakeNewsClassifier')"
      ]
    },
    {
      "cell_type": "markdown",
      "metadata": {
        "tags": [],
        "id": "UZ0p9NEStJ2i"
      },
      "source": [
        "### Task 3: Log Sum Exp Trick\n",
        "\n",
        "Assume you want to apply your Bayesian classifier to a very long text. For the sake of simplicity there is only a single word $x$ and two classes $c=0$ and $c=1$. So given you have a sentence $s$ of length $n$ (only composed out of the word $x$) the probability of a class is\n",
        "\n",
        "$$ p(c | s) = \\frac{p(x | c)^{n} p(c)}{\\sum_{c'}p(x | c')^{n} p(c')} $$\n",
        "\n",
        "So the probability should converge towards $1$ with increasing $n$ for the class with the higher probability of the word $p(x|c)$. Let's implement the equation as found in the textbook and see what happens if we increase $n$."
      ]
    },
    {
      "cell_type": "code",
      "execution_count": 6,
      "metadata": {
        "id": "iOyIp_vQtJ2k"
      },
      "outputs": [],
      "source": [
        "from matplotlib import pyplot as plt\n",
        "import warnings\n",
        "warnings.filterwarnings(action=\"ignore\", category=RuntimeWarning)\n",
        "\n",
        "def posterior(n):\n",
        "    \"\"\"\n",
        "    Probability of a class given a sentence of length n.\n",
        "    \"\"\"\n",
        "    word_given_class = np.asarray([0.095, 0.096])\n",
        "    sentence_likelihood = np.power(word_given_class, int(n))\n",
        "    prior = np.ones(2) / 2\n",
        "    posterior = (sentence_likelihood * prior) / (sentence_likelihood.T @ prior)\n",
        "    return posterior"
      ]
    },
    {
      "cell_type": "code",
      "execution_count": 7,
      "metadata": {
        "id": "VZHmH1uAtJ2n",
        "colab": {
          "base_uri": "https://localhost:8080/",
          "height": 282
        },
        "outputId": "75f7c64b-66e6-44c2-edd6-bdbb30986fb4"
      },
      "outputs": [
        {
          "output_type": "display_data",
          "data": {
            "text/plain": [
              "<Figure size 432x288 with 1 Axes>"
            ],
            "image/png": "[encoded data removed]"
          },
          "metadata": {
            "needs_background": "light"
          }
        }
      ],
      "source": [
        "plt.plot(np.linspace(0,1e3,50), [posterior(n) for n in np.linspace(0, 1e3, 50)], label=['c=0', 'c=1'])\n",
        "plt.xlim(0, 1e3)\n",
        "plt.xlabel('n')\n",
        "plt.ylabel('p(c)')\n",
        "plt.legend()\n",
        "plt.show()"
      ]
    },
    {
      "cell_type": "markdown",
      "metadata": {
        "id": "F7zvStj0tJ2p"
      },
      "source": [
        "Oh, that is not what we expected. Do you understand what happend here?"
      ]
    },
    {
      "cell_type": "code",
      "execution_count": 8,
      "metadata": {
        "id": "AXXRdpvBtJ2q",
        "colab": {
          "base_uri": "https://localhost:8080/",
          "height": 0
        },
        "outputId": "7c5d8c2f-d346-434f-cd50-71e7e2f8cc8d"
      },
      "outputs": [
        {
          "output_type": "execute_result",
          "data": {
            "text/plain": [
              "array([nan, nan])"
            ]
          },
          "metadata": {},
          "execution_count": 8
        }
      ],
      "source": [
        "posterior(n=500)"
      ]
    },
    {
      "cell_type": "markdown",
      "metadata": {
        "id": "4FfyxJKFtJ2r"
      },
      "source": [
        "You are observing an numerical underflow, as you multiplied too many small numbers beyond the precision of floating point numbers.\n",
        "\n",
        "A common approach is to deal with probabilities in logspace (sometimes also called logits) to make the computations more stable.\n",
        "\n",
        "**Task**: Implement the posterior computation from above in logspace. (compare slide 39 \"Implementation Details\")"
      ]
    },
    {
      "cell_type": "code",
      "execution_count": 9,
      "metadata": {
        "id": "I8AnelGMtJ27"
      },
      "outputs": [],
      "source": [
        "def posterior_logspace(n):\n",
        "    \"\"\"\n",
        "    Computation of the posterior (same as above) in logspace.\n",
        "    Hint: use np.exp() on the return value to return a valid probability instead of logits\n",
        "    \"\"\"\n",
        "\n",
        "    word_given_class = np.asarray([0.095, 0.096])\n",
        "    sentence_likelihood = np.power(word_given_class, int(n))\n",
        "    prior = np.ones(2) / 2\n",
        "    posterior = (sentence_likelihood * prior) / (sentence_likelihood.T @ prior)\n",
        "    return np.exp(posterior)\n",
        "    "
      ]
    },
    {
      "cell_type": "code",
      "execution_count": 10,
      "metadata": {
        "id": "ELiQ0A14tJ28",
        "colab": {
          "base_uri": "https://localhost:8080/",
          "height": 279
        },
        "outputId": "4d79d03a-556d-44ba-cfe5-b9f6f8ba37dd"
      },
      "outputs": [
        {
          "output_type": "display_data",
          "data": {
            "text/plain": [
              "<Figure size 432x288 with 1 Axes>"
            ],
            "image/png": "[encoded data removed]"
          },
          "metadata": {
            "needs_background": "light"
          }
        }
      ],
      "source": [
        "plt.plot(np.linspace(0,1e3,50), [posterior_logspace(n) for n in np.linspace(0, 1e3, 50)], label=['c=0', 'c=1'])\n",
        "plt.xlim(0, 1e3)\n",
        "plt.xlabel('n')\n",
        "plt.ylabel('p(c)')\n",
        "plt.legend()\n",
        "plt.show()"
      ]
    },
    {
      "cell_type": "markdown",
      "metadata": {
        "id": "ek76Owk5tJ2_"
      },
      "source": [
        "This did not really fix the problem, right?\n",
        "\n",
        "The problem is the expression `np.log(np.sum(np.exp(...)))` in your code, especially the sum of very small probabilities after leaving logspace with `np.exp()`. Can you improve the stability of this operation?\n",
        "\n",
        "**Task**: Implement the same computation using the so-called log-sum-exp trick (see the hint below). \n",
        "\n",
        "Hint: Try to rewrite the expression by subtracting the maximum of all logits from each individual logit. What needs to be added in the end in order to not change the result of the computation?\n",
        "\n",
        "Btw., it is forbidden to use `np.logaddexp()` in this task, since it is already implementing the trick we are looking for in this task."
      ]
    },
    {
      "cell_type": "code",
      "execution_count": 17,
      "metadata": {
        "id": "97lS87jZtJ3A"
      },
      "outputs": [],
      "source": [
        "def posterior_logsumexp_trick(n):\n",
        "    \"\"\"\n",
        "    Task: Implement the Log-Sum-Exp-Trick\n",
        "    \"\"\"\n",
        "    word_given_class = np.asarray([0.095, 0.096])\n",
        "    sentence_likelihood = np.power(word_given_class, int(n))\n",
        "    prior = np.ones(2) / 2\n",
        "    posterior = (sentence_likelihood * prior) - (sentence_likelihood.T @ prior)\n",
        "    return np.exp(posterior)"
      ]
    },
    {
      "cell_type": "code",
      "execution_count": 18,
      "metadata": {
        "id": "rWD1cdXgtJ3C",
        "colab": {
          "base_uri": "https://localhost:8080/",
          "height": 279
        },
        "outputId": "7bb3826f-eef6-4eff-c9f3-d544db35e09e"
      },
      "outputs": [
        {
          "output_type": "display_data",
          "data": {
            "text/plain": [
              "<Figure size 432x288 with 1 Axes>"
            ],
            "image/png": "[encoded data removed]"
          },
          "metadata": {
            "needs_background": "light"
          }
        }
      ],
      "source": [
        "plt.plot(np.linspace(0,1e3,50), [posterior_logsumexp_trick(n) for n in np.linspace(0, 1e3, 50)], label=['c=0', 'c=1'])\n",
        "plt.xlim(0, 1e3)\n",
        "plt.xlabel('n')\n",
        "plt.ylabel('p(c)')\n",
        "plt.legend()\n",
        "plt.show()"
      ]
    },
    {
      "cell_type": "markdown",
      "metadata": {
        "id": "XZDhYyb6tJ3D"
      },
      "source": [
        "The resulting computation should now be stable for all $n$ within the range of the plot."
      ]
    },
    {
      "cell_type": "code",
      "execution_count": null,
      "metadata": {
        "id": "ZSuLQdFztJ3E"
      },
      "outputs": [],
      "source": [
        ""
      ]
    }
  ],
  "metadata": {
    "kernelspec": {
      "display_name": "Python 3 (ipykernel)",
      "language": "python",
      "name": "python3"
    },
    "language_info": {
      "codemirror_mode": {
        "name": "ipython",
        "version": 3
      },
      "file_extension": ".py",
      "mimetype": "text/x-python",
      "name": "python",
      "nbconvert_exporter": "python",
      "pygments_lexer": "ipython3",
      "version": "3.7.13"
    },
    "colab": {
      "name": "assignment2_naivebayes.ipynb",
      "provenance": [],
      "collapsed_sections": [],
      "include_colab_link": true
    }
  },
  "nbformat": 4,
  "nbformat_minor": 0
}